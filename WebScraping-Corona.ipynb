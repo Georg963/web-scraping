{
 "cells": [
  {
   "cell_type": "code",
   "execution_count": 1,
   "id": "6225b321",
   "metadata": {},
   "outputs": [
    {
     "data": {
      "text/plain": [
       "'\\n!pip install bs4\\n!pip install requests\\n'"
      ]
     },
     "execution_count": 1,
     "metadata": {},
     "output_type": "execute_result"
    }
   ],
   "source": [
    "'''\n",
    "!pip install bs4\n",
    "!pip install requests\n",
    "'''"
   ]
  },
  {
   "cell_type": "code",
   "execution_count": 2,
   "id": "145df165",
   "metadata": {},
   "outputs": [],
   "source": [
    "from bs4 import BeautifulSoup\n",
    "import pandas as pd\n",
    "import requests"
   ]
  },
  {
   "cell_type": "code",
   "execution_count": 3,
   "id": "ffe8ae14",
   "metadata": {},
   "outputs": [],
   "source": [
    "data = requests.get(\"https://www.worldometers.info/coronavirus/\").text"
   ]
  },
  {
   "cell_type": "code",
   "execution_count": 4,
   "id": "f1332e92",
   "metadata": {},
   "outputs": [],
   "source": [
    "soup = BeautifulSoup(data, \"html5lib\")"
   ]
  },
  {
   "cell_type": "code",
   "execution_count": 5,
   "id": "6b17c36f",
   "metadata": {},
   "outputs": [
    {
     "data": {
      "text/plain": [
       "['#',\n",
       " 'Country,Other',\n",
       " 'TotalCases',\n",
       " 'NewCases',\n",
       " 'TotalDeaths',\n",
       " 'NewDeaths',\n",
       " 'TotalRecovered',\n",
       " 'NewRecovered',\n",
       " 'ActiveCases',\n",
       " 'Serious,Critical',\n",
       " 'Tot\\xa0Cases/1M pop',\n",
       " 'Deaths/1M pop',\n",
       " 'TotalTests',\n",
       " 'Tests/\\n1M pop\\n',\n",
       " 'Population',\n",
       " 'Continent',\n",
       " '1 Caseevery X ppl',\n",
       " '1 Deathevery X ppl',\n",
       " 'New Cases/1M pop',\n",
       " 'New Deaths/1M pop',\n",
       " 'Active Cases/1M pop']"
      ]
     },
     "execution_count": 5,
     "metadata": {},
     "output_type": "execute_result"
    }
   ],
   "source": [
    "dfColumns = []\n",
    "for headline in soup.find('table', class_='table table-bordered table-hover main_table_countries').find('thead').find('tr').find_all('th'):\n",
    "    dfColumns.append(headline.text)\n",
    "    \n",
    "dfColumns.remove('1 Testevery X ppl')\n",
    "\n",
    "dfColumns"
   ]
  },
  {
   "cell_type": "code",
   "execution_count": 6,
   "id": "eaaf7216",
   "metadata": {},
   "outputs": [],
   "source": [
    "data = pd.DataFrame(columns = [])\n",
    "for col in dfColumns:\n",
    "    data[col] = col"
   ]
  },
  {
   "cell_type": "code",
   "execution_count": 7,
   "id": "e9b974c4",
   "metadata": {},
   "outputs": [
    {
     "data": {
      "text/html": [
       "<div>\n",
       "<style scoped>\n",
       "    .dataframe tbody tr th:only-of-type {\n",
       "        vertical-align: middle;\n",
       "    }\n",
       "\n",
       "    .dataframe tbody tr th {\n",
       "        vertical-align: top;\n",
       "    }\n",
       "\n",
       "    .dataframe thead th {\n",
       "        text-align: right;\n",
       "    }\n",
       "</style>\n",
       "<table border=\"1\" class=\"dataframe\">\n",
       "  <thead>\n",
       "    <tr style=\"text-align: right;\">\n",
       "      <th></th>\n",
       "      <th>#</th>\n",
       "      <th>Country,Other</th>\n",
       "      <th>TotalCases</th>\n",
       "      <th>NewCases</th>\n",
       "      <th>TotalDeaths</th>\n",
       "      <th>NewDeaths</th>\n",
       "      <th>TotalRecovered</th>\n",
       "      <th>NewRecovered</th>\n",
       "      <th>ActiveCases</th>\n",
       "      <th>Serious,Critical</th>\n",
       "      <th>Tot Cases/1M pop</th>\n",
       "      <th>Deaths/1M pop</th>\n",
       "      <th>TotalTests</th>\n",
       "      <th>Tests/\\n1M pop\\n</th>\n",
       "      <th>Population</th>\n",
       "      <th>Continent</th>\n",
       "      <th>1 Caseevery X ppl</th>\n",
       "      <th>1 Deathevery X ppl</th>\n",
       "      <th>New Cases/1M pop</th>\n",
       "      <th>New Deaths/1M pop</th>\n",
       "      <th>Active Cases/1M pop</th>\n",
       "    </tr>\n",
       "  </thead>\n",
       "  <tbody>\n",
       "  </tbody>\n",
       "</table>\n",
       "</div>"
      ],
      "text/plain": [
       "Empty DataFrame\n",
       "Columns: [#, Country,Other, TotalCases, NewCases, TotalDeaths, NewDeaths, TotalRecovered, NewRecovered, ActiveCases, Serious,Critical, Tot Cases/1M pop, Deaths/1M pop, TotalTests, Tests/\n",
       "1M pop\n",
       ", Population, Continent, 1 Caseevery X ppl, 1 Deathevery X ppl, New Cases/1M pop, New Deaths/1M pop, Active Cases/1M pop]\n",
       "Index: []"
      ]
     },
     "execution_count": 7,
     "metadata": {},
     "output_type": "execute_result"
    }
   ],
   "source": [
    "# to print all the contents of a dataframe, use following settings:\n",
    "pd.set_option('display.max_rows', None)\n",
    "pd.set_option('display.max_columns', None)\n",
    "pd.set_option('display.width', None)\n",
    "pd.set_option('display.max_colwidth', None)\n",
    "\n",
    "data"
   ]
  },
  {
   "cell_type": "code",
   "execution_count": 8,
   "id": "f3cded04",
   "metadata": {},
   "outputs": [],
   "source": [
    "rows = []\n",
    "for row in soup.find('table', class_='table table-bordered table-hover main_table_countries').find('tbody').find_all('tr'):\n",
    "    rows.append(row.text)"
   ]
  },
  {
   "cell_type": "code",
   "execution_count": 9,
   "id": "7e4cf7cd",
   "metadata": {},
   "outputs": [],
   "source": [
    "for ind in range(7, len(rows)):\n",
    "    row = rows[ind].split('\\n')[1:-1]\n",
    "    s = pd.Series(row[:21], index=data.columns)\n",
    "    data = data.append(s, ignore_index=True)"
   ]
  },
  {
   "cell_type": "code",
   "execution_count": 10,
   "id": "e63a21fa",
   "metadata": {},
   "outputs": [],
   "source": [
    "data = data.drop('1 Caseevery X ppl', 1)"
   ]
  },
  {
   "cell_type": "code",
   "execution_count": 11,
   "id": "9ffa415f",
   "metadata": {},
   "outputs": [
    {
     "data": {
      "text/html": [
       "<style  type=\"text/css\" >\n",
       "</style><table id=\"T_8ade0_\" ><thead>    <tr>        <th class=\"col_heading level0 col0\" >#</th>        <th class=\"col_heading level0 col1\" >Country,Other</th>        <th class=\"col_heading level0 col2\" >TotalCases</th>        <th class=\"col_heading level0 col3\" >NewCases</th>        <th class=\"col_heading level0 col4\" >TotalDeaths</th>        <th class=\"col_heading level0 col5\" >NewDeaths</th>        <th class=\"col_heading level0 col6\" >TotalRecovered</th>        <th class=\"col_heading level0 col7\" >NewRecovered</th>        <th class=\"col_heading level0 col8\" >ActiveCases</th>        <th class=\"col_heading level0 col9\" >Serious,Critical</th>        <th class=\"col_heading level0 col10\" >Tot Cases/1M pop</th>        <th class=\"col_heading level0 col11\" >Deaths/1M pop</th>        <th class=\"col_heading level0 col12\" >TotalTests</th>        <th class=\"col_heading level0 col13\" >Tests/\n",
       "1M pop\n",
       "</th>        <th class=\"col_heading level0 col14\" >Population</th>        <th class=\"col_heading level0 col15\" >Continent</th>        <th class=\"col_heading level0 col16\" >1 Deathevery X ppl</th>        <th class=\"col_heading level0 col17\" >New Cases/1M pop</th>        <th class=\"col_heading level0 col18\" >New Deaths/1M pop</th>        <th class=\"col_heading level0 col19\" >Active Cases/1M pop</th>    </tr></thead><tbody>\n",
       "                <tr>\n",
       "                                <td id=\"T_8ade0_row0_col0\" class=\"data row0 col0\" ></td>\n",
       "                        <td id=\"T_8ade0_row0_col1\" class=\"data row0 col1\" >World</td>\n",
       "                        <td id=\"T_8ade0_row0_col2\" class=\"data row0 col2\" >242,449,331</td>\n",
       "                        <td id=\"T_8ade0_row0_col3\" class=\"data row0 col3\" >+139,418</td>\n",
       "                        <td id=\"T_8ade0_row0_col4\" class=\"data row0 col4\" >4,931,316</td>\n",
       "                        <td id=\"T_8ade0_row0_col5\" class=\"data row0 col5\" >+2,969</td>\n",
       "                        <td id=\"T_8ade0_row0_col6\" class=\"data row0 col6\" >219,749,220</td>\n",
       "                        <td id=\"T_8ade0_row0_col7\" class=\"data row0 col7\" >+90,158</td>\n",
       "                        <td id=\"T_8ade0_row0_col8\" class=\"data row0 col8\" >17,768,795</td>\n",
       "                        <td id=\"T_8ade0_row0_col9\" class=\"data row0 col9\" >77,448</td>\n",
       "                        <td id=\"T_8ade0_row0_col10\" class=\"data row0 col10\" >31,104</td>\n",
       "                        <td id=\"T_8ade0_row0_col11\" class=\"data row0 col11\" >632.6</td>\n",
       "                        <td id=\"T_8ade0_row0_col12\" class=\"data row0 col12\" ></td>\n",
       "                        <td id=\"T_8ade0_row0_col13\" class=\"data row0 col13\" ></td>\n",
       "                        <td id=\"T_8ade0_row0_col14\" class=\"data row0 col14\" ></td>\n",
       "                        <td id=\"T_8ade0_row0_col15\" class=\"data row0 col15\" >All</td>\n",
       "                        <td id=\"T_8ade0_row0_col16\" class=\"data row0 col16\" ></td>\n",
       "                        <td id=\"T_8ade0_row0_col17\" class=\"data row0 col17\" ></td>\n",
       "                        <td id=\"T_8ade0_row0_col18\" class=\"data row0 col18\" ></td>\n",
       "                        <td id=\"T_8ade0_row0_col19\" class=\"data row0 col19\" ></td>\n",
       "            </tr>\n",
       "            <tr>\n",
       "                                <td id=\"T_8ade0_row1_col0\" class=\"data row1 col0\" >1</td>\n",
       "                        <td id=\"T_8ade0_row1_col1\" class=\"data row1 col1\" >USA</td>\n",
       "                        <td id=\"T_8ade0_row1_col2\" class=\"data row1 col2\" >45,996,507</td>\n",
       "                        <td id=\"T_8ade0_row1_col3\" class=\"data row1 col3\" ></td>\n",
       "                        <td id=\"T_8ade0_row1_col4\" class=\"data row1 col4\" >748,652 </td>\n",
       "                        <td id=\"T_8ade0_row1_col5\" class=\"data row1 col5\" ></td>\n",
       "                        <td id=\"T_8ade0_row1_col6\" class=\"data row1 col6\" >35,710,331</td>\n",
       "                        <td id=\"T_8ade0_row1_col7\" class=\"data row1 col7\" ></td>\n",
       "                        <td id=\"T_8ade0_row1_col8\" class=\"data row1 col8\" >9,537,524</td>\n",
       "                        <td id=\"T_8ade0_row1_col9\" class=\"data row1 col9\" >14,796</td>\n",
       "                        <td id=\"T_8ade0_row1_col10\" class=\"data row1 col10\" > 137,912</td>\n",
       "                        <td id=\"T_8ade0_row1_col11\" class=\"data row1 col11\" >2,245</td>\n",
       "                        <td id=\"T_8ade0_row1_col12\" class=\"data row1 col12\" >673,979,051</td>\n",
       "                        <td id=\"T_8ade0_row1_col13\" class=\"data row1 col13\" >2,020,794</td>\n",
       "                        <td id=\"T_8ade0_row1_col14\" class=\"data row1 col14\" >333,521,903 </td>\n",
       "                        <td id=\"T_8ade0_row1_col15\" class=\"data row1 col15\" >North America</td>\n",
       "                        <td id=\"T_8ade0_row1_col16\" class=\"data row1 col16\" >74450</td>\n",
       "                        <td id=\"T_8ade0_row1_col17\" class=\"data row1 col17\" ></td>\n",
       "                        <td id=\"T_8ade0_row1_col18\" class=\"data row1 col18\" ></td>\n",
       "                        <td id=\"T_8ade0_row1_col19\" class=\"data row1 col19\" >28,596</td>\n",
       "            </tr>\n",
       "            <tr>\n",
       "                                <td id=\"T_8ade0_row2_col0\" class=\"data row2 col0\" >2</td>\n",
       "                        <td id=\"T_8ade0_row2_col1\" class=\"data row2 col1\" >India</td>\n",
       "                        <td id=\"T_8ade0_row2_col2\" class=\"data row2 col2\" >34,108,996</td>\n",
       "                        <td id=\"T_8ade0_row2_col3\" class=\"data row2 col3\" >+673</td>\n",
       "                        <td id=\"T_8ade0_row2_col4\" class=\"data row2 col4\" >452,684 </td>\n",
       "                        <td id=\"T_8ade0_row2_col5\" class=\"data row2 col5\" ></td>\n",
       "                        <td id=\"T_8ade0_row2_col6\" class=\"data row2 col6\" >33,478,247</td>\n",
       "                        <td id=\"T_8ade0_row2_col7\" class=\"data row2 col7\" >+7,626</td>\n",
       "                        <td id=\"T_8ade0_row2_col8\" class=\"data row2 col8\" >178,065</td>\n",
       "                        <td id=\"T_8ade0_row2_col9\" class=\"data row2 col9\" >8,944</td>\n",
       "                        <td id=\"T_8ade0_row2_col10\" class=\"data row2 col10\" >24,405</td>\n",
       "                        <td id=\"T_8ade0_row2_col11\" class=\"data row2 col11\" >324</td>\n",
       "                        <td id=\"T_8ade0_row2_col12\" class=\"data row2 col12\" >594,429,890</td>\n",
       "                        <td id=\"T_8ade0_row2_col13\" class=\"data row2 col13\" >425,320</td>\n",
       "                        <td id=\"T_8ade0_row2_col14\" class=\"data row2 col14\" >1,397,605,690 </td>\n",
       "                        <td id=\"T_8ade0_row2_col15\" class=\"data row2 col15\" >Asia</td>\n",
       "                        <td id=\"T_8ade0_row2_col16\" class=\"data row2 col16\" >413,0872</td>\n",
       "                        <td id=\"T_8ade0_row2_col17\" class=\"data row2 col17\" >0.5</td>\n",
       "                        <td id=\"T_8ade0_row2_col18\" class=\"data row2 col18\" ></td>\n",
       "                        <td id=\"T_8ade0_row2_col19\" class=\"data row2 col19\" >127</td>\n",
       "            </tr>\n",
       "            <tr>\n",
       "                                <td id=\"T_8ade0_row3_col0\" class=\"data row3 col0\" >3</td>\n",
       "                        <td id=\"T_8ade0_row3_col1\" class=\"data row3 col1\" >Brazil</td>\n",
       "                        <td id=\"T_8ade0_row3_col2\" class=\"data row3 col2\" >21,664,879</td>\n",
       "                        <td id=\"T_8ade0_row3_col3\" class=\"data row3 col3\" > </td>\n",
       "                        <td id=\"T_8ade0_row3_col4\" class=\"data row3 col4\" >603,902 </td>\n",
       "                        <td id=\"T_8ade0_row3_col5\" class=\"data row3 col5\" ></td>\n",
       "                        <td id=\"T_8ade0_row3_col6\" class=\"data row3 col6\" >20,838,188</td>\n",
       "                        <td id=\"T_8ade0_row3_col7\" class=\"data row3 col7\" ></td>\n",
       "                        <td id=\"T_8ade0_row3_col8\" class=\"data row3 col8\" >222,789</td>\n",
       "                        <td id=\"T_8ade0_row3_col9\" class=\"data row3 col9\" >8,318</td>\n",
       "                        <td id=\"T_8ade0_row3_col10\" class=\"data row3 col10\" >100,992</td>\n",
       "                        <td id=\"T_8ade0_row3_col11\" class=\"data row3 col11\" >2,815</td>\n",
       "                        <td id=\"T_8ade0_row3_col12\" class=\"data row3 col12\" >63,776,166</td>\n",
       "                        <td id=\"T_8ade0_row3_col13\" class=\"data row3 col13\" >297,297</td>\n",
       "                        <td id=\"T_8ade0_row3_col14\" class=\"data row3 col14\" >214,520,249 </td>\n",
       "                        <td id=\"T_8ade0_row3_col15\" class=\"data row3 col15\" >South America</td>\n",
       "                        <td id=\"T_8ade0_row3_col16\" class=\"data row3 col16\" >103553</td>\n",
       "                        <td id=\"T_8ade0_row3_col17\" class=\"data row3 col17\" ></td>\n",
       "                        <td id=\"T_8ade0_row3_col18\" class=\"data row3 col18\" ></td>\n",
       "                        <td id=\"T_8ade0_row3_col19\" class=\"data row3 col19\" >1,039</td>\n",
       "            </tr>\n",
       "            <tr>\n",
       "                                <td id=\"T_8ade0_row4_col0\" class=\"data row4 col0\" >4</td>\n",
       "                        <td id=\"T_8ade0_row4_col1\" class=\"data row4 col1\" >UK</td>\n",
       "                        <td id=\"T_8ade0_row4_col2\" class=\"data row4 col2\" >8,541,192</td>\n",
       "                        <td id=\"T_8ade0_row4_col3\" class=\"data row4 col3\" ></td>\n",
       "                        <td id=\"T_8ade0_row4_col4\" class=\"data row4 col4\" >138,852 </td>\n",
       "                        <td id=\"T_8ade0_row4_col5\" class=\"data row4 col5\" ></td>\n",
       "                        <td id=\"T_8ade0_row4_col6\" class=\"data row4 col6\" >6,991,909</td>\n",
       "                        <td id=\"T_8ade0_row4_col7\" class=\"data row4 col7\" ></td>\n",
       "                        <td id=\"T_8ade0_row4_col8\" class=\"data row4 col8\" >1,410,431</td>\n",
       "                        <td id=\"T_8ade0_row4_col9\" class=\"data row4 col9\" >823</td>\n",
       "                        <td id=\"T_8ade0_row4_col10\" class=\"data row4 col10\" >124,965</td>\n",
       "                        <td id=\"T_8ade0_row4_col11\" class=\"data row4 col11\" >2,032</td>\n",
       "                        <td id=\"T_8ade0_row4_col12\" class=\"data row4 col12\" >321,188,533</td>\n",
       "                        <td id=\"T_8ade0_row4_col13\" class=\"data row4 col13\" >4,699,250</td>\n",
       "                        <td id=\"T_8ade0_row4_col14\" class=\"data row4 col14\" >68,348,890 </td>\n",
       "                        <td id=\"T_8ade0_row4_col15\" class=\"data row4 col15\" >Europe</td>\n",
       "                        <td id=\"T_8ade0_row4_col16\" class=\"data row4 col16\" >84920</td>\n",
       "                        <td id=\"T_8ade0_row4_col17\" class=\"data row4 col17\" ></td>\n",
       "                        <td id=\"T_8ade0_row4_col18\" class=\"data row4 col18\" ></td>\n",
       "                        <td id=\"T_8ade0_row4_col19\" class=\"data row4 col19\" >20,636</td>\n",
       "            </tr>\n",
       "    </tbody></table>"
      ],
      "text/plain": [
       "<pandas.io.formats.style.Styler at 0x246ec755580>"
      ]
     },
     "execution_count": 11,
     "metadata": {},
     "output_type": "execute_result"
    }
   ],
   "source": [
    "#Now-All\n",
    "data.head().style.hide_index()"
   ]
  },
  {
   "cell_type": "code",
   "execution_count": 12,
   "id": "61ce7875",
   "metadata": {},
   "outputs": [],
   "source": [
    "data.to_csv(\"Report-coronavirus-cases.csv\", index=False)"
   ]
  }
 ],
 "metadata": {
  "kernelspec": {
   "display_name": "Python 3",
   "language": "python",
   "name": "python3"
  },
  "language_info": {
   "codemirror_mode": {
    "name": "ipython",
    "version": 3
   },
   "file_extension": ".py",
   "mimetype": "text/x-python",
   "name": "python",
   "nbconvert_exporter": "python",
   "pygments_lexer": "ipython3",
   "version": "3.8.8"
  }
 },
 "nbformat": 4,
 "nbformat_minor": 5
}
