{
 "cells": [
  {
   "cell_type": "code",
   "execution_count": 1,
   "id": "c7e80001",
   "metadata": {},
   "outputs": [
    {
     "data": {
      "text/plain": [
       "'\\n!pip install bs4\\n!pip install requests\\n'"
      ]
     },
     "execution_count": 1,
     "metadata": {},
     "output_type": "execute_result"
    }
   ],
   "source": [
    "'''\n",
    "!pip install bs4\n",
    "!pip install requests\n",
    "'''"
   ]
  },
  {
   "cell_type": "code",
   "execution_count": 2,
   "id": "affb8d38",
   "metadata": {},
   "outputs": [],
   "source": [
    "from bs4 import BeautifulSoup\n",
    "import pandas as pd\n",
    "import requests"
   ]
  },
  {
   "cell_type": "code",
   "execution_count": 3,
   "id": "2218b421",
   "metadata": {},
   "outputs": [],
   "source": [
    "data = requests.get(\"https://coreyms.com/\").text"
   ]
  },
  {
   "cell_type": "code",
   "execution_count": 4,
   "id": "5a2f1c6e",
   "metadata": {},
   "outputs": [],
   "source": [
    "soup = BeautifulSoup(data, \"html5lib\")"
   ]
  },
  {
   "cell_type": "code",
   "execution_count": 5,
   "id": "1601abb8",
   "metadata": {},
   "outputs": [],
   "source": [
    "df = pd.DataFrame(columns = ['headline', 'date', 'summary', 'youtube_url'])\n",
    "\n",
    "for article in soup.find_all('article'):\n",
    "    headline = article.find('a').text\n",
    "    date = article.find('time').text\n",
    "    summary = article.div.p.text\n",
    "    try:\n",
    "        youtube_url = article.find('iframe')['src'].split('?')[0]\n",
    "    except:\n",
    "        youtube_url = None\n",
    "    \n",
    "    df = df.append({'headline': headline, 'date': date, 'summary': summary, 'youtube_url': youtube_url}, ignore_index=True)"
   ]
  },
  {
   "cell_type": "code",
   "execution_count": 6,
   "id": "4838a79a",
   "metadata": {},
   "outputs": [
    {
     "data": {
      "text/html": [
       "<div>\n",
       "<style scoped>\n",
       "    .dataframe tbody tr th:only-of-type {\n",
       "        vertical-align: middle;\n",
       "    }\n",
       "\n",
       "    .dataframe tbody tr th {\n",
       "        vertical-align: top;\n",
       "    }\n",
       "\n",
       "    .dataframe thead th {\n",
       "        text-align: right;\n",
       "    }\n",
       "</style>\n",
       "<table border=\"1\" class=\"dataframe\">\n",
       "  <thead>\n",
       "    <tr style=\"text-align: right;\">\n",
       "      <th></th>\n",
       "      <th>headline</th>\n",
       "      <th>date</th>\n",
       "      <th>summary</th>\n",
       "      <th>youtube_url</th>\n",
       "    </tr>\n",
       "  </thead>\n",
       "  <tbody>\n",
       "    <tr>\n",
       "      <th>0</th>\n",
       "      <td>Python Tutorial: Zip Files – Creating and Extracting Zip Archives</td>\n",
       "      <td>November 19, 2019</td>\n",
       "      <td>In this video, we will be learning how to create and extract zip archives. We will start by using the zipfile module, and then we will see how to do this using the shutil module. We will learn how to do this with single files and directories, as well as learning how to use gzip as well. Let’s get started…</td>\n",
       "      <td>https://www.youtube.com/embed/z0gguhEmWiY</td>\n",
       "    </tr>\n",
       "    <tr>\n",
       "      <th>1</th>\n",
       "      <td>Python Data Science Tutorial: Analyzing the 2019 Stack Overflow Developer Survey</td>\n",
       "      <td>October 17, 2019</td>\n",
       "      <td>In this Python Programming video, we will be learning how to download and analyze real-world data from the 2019 Stack Overflow Developer Survey. This is terrific practice for anyone getting into the data science field. We will learn different ways to analyze this data and also some best practices. Let’s get started…</td>\n",
       "      <td>https://www.youtube.com/embed/_P7X8tMplsw</td>\n",
       "    </tr>\n",
       "    <tr>\n",
       "      <th>2</th>\n",
       "      <td>Python Multiprocessing Tutorial: Run Code in Parallel Using the Multiprocessing Module</td>\n",
       "      <td>September 21, 2019</td>\n",
       "      <td>In this Python Programming video, we will be learning how to run code in parallel using the multiprocessing module. We will also look at how to process multiple high-resolution images at the same time using a ProcessPoolExecutor from the concurrent.futures module. Let’s get started…</td>\n",
       "      <td>https://www.youtube.com/embed/fKl2JW_qrso</td>\n",
       "    </tr>\n",
       "    <tr>\n",
       "      <th>3</th>\n",
       "      <td>Python Threading Tutorial: Run Code Concurrently Using the Threading Module</td>\n",
       "      <td>September 12, 2019</td>\n",
       "      <td>In this Python Programming video, we will be learning how to run threads concurrently using the threading module. We will also look at how to download multiple high-resolution images online using a ThreadPoolExecutor from the concurrent.futures module. Let’s get started…</td>\n",
       "      <td>https://www.youtube.com/embed/IEEhzQoKtQU</td>\n",
       "    </tr>\n",
       "    <tr>\n",
       "      <th>4</th>\n",
       "      <td>Update (2019-09-03)</td>\n",
       "      <td>September 3, 2019</td>\n",
       "      <td>Hey everyone. I wanted to give you an update on my videos. I will be releasing videos on threading and multiprocessing within the next week. Thanks so much for your patience. I currently have a temporary recording studio setup at my Airbnb that will allow me to record and edit the threading/multiprocessing videos. I am going to be moving into my new house in 10 days and once I have my recording studio setup then you can expect much faster video releases. I really appreciate how patient everyone has been while I go through this move, especially those of you who are contributing monthly through YouTube</td>\n",
       "      <td>None</td>\n",
       "    </tr>\n",
       "  </tbody>\n",
       "</table>\n",
       "</div>"
      ],
      "text/plain": [
       "                                                                                 headline  \\\n",
       "0                       Python Tutorial: Zip Files – Creating and Extracting Zip Archives   \n",
       "1        Python Data Science Tutorial: Analyzing the 2019 Stack Overflow Developer Survey   \n",
       "2  Python Multiprocessing Tutorial: Run Code in Parallel Using the Multiprocessing Module   \n",
       "3             Python Threading Tutorial: Run Code Concurrently Using the Threading Module   \n",
       "4                                                                     Update (2019-09-03)   \n",
       "\n",
       "                 date  \\\n",
       "0   November 19, 2019   \n",
       "1    October 17, 2019   \n",
       "2  September 21, 2019   \n",
       "3  September 12, 2019   \n",
       "4   September 3, 2019   \n",
       "\n",
       "                                                                                                                                                                                                                                                                                                                                                                                                                                                                                                                                                                                                                            summary  \\\n",
       "0                                                                                                                                                                                                                                                                                                                In this video, we will be learning how to create and extract zip archives. We will start by using the zipfile module, and then we will see how to do this using the shutil module. We will learn how to do this with single files and directories, as well as learning how to use gzip as well. Let’s get started…   \n",
       "1                                                                                                                                                                                                                                                                                                     In this Python Programming video, we will be learning how to download and analyze real-world data from the 2019 Stack Overflow Developer Survey. This is terrific practice for anyone getting into the data science field. We will learn different ways to analyze this data and also some best practices. Let’s get started…   \n",
       "2                                                                                                                                                                                                                                                                                                                                       In this Python Programming video, we will be learning how to run code in parallel using the multiprocessing module. We will also look at how to process multiple high-resolution images at the same time using a ProcessPoolExecutor from the concurrent.futures module. Let’s get started…   \n",
       "3                                                                                                                                                                                                                                                                                                                                                   In this Python Programming video, we will be learning how to run threads concurrently using the threading module. We will also look at how to download multiple high-resolution images online using a ThreadPoolExecutor from the concurrent.futures module. Let’s get started…   \n",
       "4  Hey everyone. I wanted to give you an update on my videos. I will be releasing videos on threading and multiprocessing within the next week. Thanks so much for your patience. I currently have a temporary recording studio setup at my Airbnb that will allow me to record and edit the threading/multiprocessing videos. I am going to be moving into my new house in 10 days and once I have my recording studio setup then you can expect much faster video releases. I really appreciate how patient everyone has been while I go through this move, especially those of you who are contributing monthly through YouTube    \n",
       "\n",
       "                                 youtube_url  \n",
       "0  https://www.youtube.com/embed/z0gguhEmWiY  \n",
       "1  https://www.youtube.com/embed/_P7X8tMplsw  \n",
       "2  https://www.youtube.com/embed/fKl2JW_qrso  \n",
       "3  https://www.youtube.com/embed/IEEhzQoKtQU  \n",
       "4                                       None  "
      ]
     },
     "execution_count": 6,
     "metadata": {},
     "output_type": "execute_result"
    }
   ],
   "source": [
    "# to print all the contents of a dataframe, use following settings:\n",
    "pd.set_option('display.max_rows', None)\n",
    "pd.set_option('display.max_columns', None)\n",
    "pd.set_option('display.width', None)\n",
    "pd.set_option('display.max_colwidth', None)\n",
    "\n",
    "#df.reset_index(drop=True, inplace=True)\n",
    "df.head()"
   ]
  },
  {
   "cell_type": "code",
   "execution_count": 7,
   "id": "5ddd1913",
   "metadata": {},
   "outputs": [],
   "source": [
    "df.to_csv(\"miniProject.csv\", index=False)"
   ]
  }
 ],
 "metadata": {
  "kernelspec": {
   "display_name": "Python 3",
   "language": "python",
   "name": "python3"
  },
  "language_info": {
   "codemirror_mode": {
    "name": "ipython",
    "version": 3
   },
   "file_extension": ".py",
   "mimetype": "text/x-python",
   "name": "python",
   "nbconvert_exporter": "python",
   "pygments_lexer": "ipython3",
   "version": "3.8.8"
  }
 },
 "nbformat": 4,
 "nbformat_minor": 5
}
